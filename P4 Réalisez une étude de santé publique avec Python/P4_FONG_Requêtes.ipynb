{
 "cells": [
  {
   "cell_type": "markdown",
   "metadata": {
    "toc": true
   },
   "source": [
    "<h1>Table of Contents<span class=\"tocSkip\"></span></h1>\n",
    "<div class=\"toc\"><ul class=\"toc-item\"><li><span><a href=\"#PARTIE-1\" data-toc-modified-id=\"PARTIE-1-1\"><span class=\"toc-item-num\">1&nbsp;&nbsp;</span>PARTIE 1</a></span></li><li><span><a href=\"#Q1.-Proportion-de-personnes-en-état-de-sous-nutrition\" data-toc-modified-id=\"Q1.-Proportion-de-personnes-en-état-de-sous-nutrition-2\"><span class=\"toc-item-num\">2&nbsp;&nbsp;</span>Q1. Proportion de personnes en état de sous-nutrition</a></span></li><li><span><a href=\"#Q2.-Nombre-théorique-de-personnes-qui-pourraient-être-nourries.\" data-toc-modified-id=\"Q2.-Nombre-théorique-de-personnes-qui-pourraient-être-nourries.-3\"><span class=\"toc-item-num\">3&nbsp;&nbsp;</span>Q2. Nombre théorique de personnes qui pourraient être nourries.</a></span></li><li><span><a href=\"#Q3.-Idem-pour-la-disponibilité-alimentaire-des-produits-végétaux\" data-toc-modified-id=\"Q3.-Idem-pour-la-disponibilité-alimentaire-des-produits-végétaux-4\"><span class=\"toc-item-num\">4&nbsp;&nbsp;</span>Q3. Idem pour la disponibilité alimentaire des produits végétaux</a></span><ul class=\"toc-item\"><li><ul class=\"toc-item\"><li><span><a href=\"#Conclusion-Q1/Q2/Q3\" data-toc-modified-id=\"Conclusion-Q1/Q2/Q3-4.0.1\"><span class=\"toc-item-num\">4.0.1&nbsp;&nbsp;</span>Conclusion Q1/Q2/Q3</a></span></li></ul></li></ul></li><li><span><a href=\"#Q4.-Quelle-est-l’utilisation-de-la-disponibilité-intérieure,-en-particulier-la-part-qui-est-attribuée-à-l’alimentation-animale,-celle-qui-est-perdue-et-celle-qui-est-concrètement-utilisée-pour-l'alimentation-humaine.\" data-toc-modified-id=\"Q4.-Quelle-est-l’utilisation-de-la-disponibilité-intérieure,-en-particulier-la-part-qui-est-attribuée-à-l’alimentation-animale,-celle-qui-est-perdue-et-celle-qui-est-concrètement-utilisée-pour-l'alimentation-humaine.-5\"><span class=\"toc-item-num\">5&nbsp;&nbsp;</span>Q4. Quelle est l’utilisation de la disponibilité intérieure, en particulier la part qui est attribuée à l’alimentation animale, celle qui est perdue et celle qui est concrètement utilisée pour l'alimentation humaine.</a></span></li><li><span><a href=\"#Q5.-Requêtes-additionnelles\" data-toc-modified-id=\"Q5.-Requêtes-additionnelles-6\"><span class=\"toc-item-num\">6&nbsp;&nbsp;</span>Q5. Requêtes additionnelles</a></span><ul class=\"toc-item\"><li><ul class=\"toc-item\"><li><span><a href=\"#Q5.1-Notes-et-recherches-de-Julien:\" data-toc-modified-id=\"Q5.1-Notes-et-recherches-de-Julien:-6.0.1\"><span class=\"toc-item-num\">6.0.1&nbsp;&nbsp;</span>Q5.1 Notes et recherches de Julien:</a></span></li><li><span><a href=\"#Q5.2-Notes-et-recherches-de-Julien-(suite):\" data-toc-modified-id=\"Q5.2-Notes-et-recherches-de-Julien-(suite):-6.0.2\"><span class=\"toc-item-num\">6.0.2&nbsp;&nbsp;</span>Q5.2 Notes et recherches de Julien (suite):</a></span></li></ul></li></ul></li><li><span><a href=\"#PARTIE-2\" data-toc-modified-id=\"PARTIE-2-7\"><span class=\"toc-item-num\">7&nbsp;&nbsp;</span>PARTIE 2</a></span></li><li><span><a href=\"#Q6.-Pays-pour-lesquels-la-proportion-de-personnes-sous-alimentées-est-la-plus-forte-en-2017\" data-toc-modified-id=\"Q6.-Pays-pour-lesquels-la-proportion-de-personnes-sous-alimentées-est-la-plus-forte-en-2017-8\"><span class=\"toc-item-num\">8&nbsp;&nbsp;</span>Q6. Pays pour lesquels la proportion de personnes sous-alimentées est la plus forte en 2017</a></span></li><li><span><a href=\"#Q7.-Ceux-qui-ont-le-plus-bénéficié-d’aide-depuis-2013\" data-toc-modified-id=\"Q7.-Ceux-qui-ont-le-plus-bénéficié-d’aide-depuis-2013-9\"><span class=\"toc-item-num\">9&nbsp;&nbsp;</span>Q7. Ceux qui ont le plus bénéficié d’aide depuis 2013</a></span></li><li><span><a href=\"#Q8.-Ceux-ayant-le-plus/le-moins-de-disponibilité/habitant,-etc.,\" data-toc-modified-id=\"Q8.-Ceux-ayant-le-plus/le-moins-de-disponibilité/habitant,-etc.,-10\"><span class=\"toc-item-num\">10&nbsp;&nbsp;</span>Q8. Ceux ayant le plus/le moins de disponibilité/habitant, etc.,</a></span></li></ul></div>"
   ]
  },
  {
   "cell_type": "markdown",
   "metadata": {},
   "source": [
    "# PARTIE 1\n",
    "_Les données sur lesquelles j’aimerais particulièrement avoir des informations sont, pour l’année 2017 :_\n",
    "\n",
    "_- la proportion de personnes en état de sous-nutrition ;_\n",
    "\n",
    "_- le nombre théorique de personnes qui pourraient être nourries. Tu devrais pouvoir calculer ça à partir de la disponibilité alimentaire mondiale ;_\n",
    "\n",
    "_- idem pour la disponibilité alimentaire des produits végétaux ;_\n",
    "\n",
    "_- l’utilisation de la disponibilité intérieure, en particulier la part qui est attribuée à l’alimentation animale, celle qui est perdue et celle qui est concrètement utilisée pour l'alimentation humaine. Je crois que Julien avait trouvé un moyen de facilement calculer ces proportions._"
   ]
  },
  {
   "cell_type": "code",
   "execution_count": 1,
   "metadata": {},
   "outputs": [],
   "source": [
    "import pandas as pd"
   ]
  },
  {
   "cell_type": "markdown",
   "metadata": {},
   "source": [
    "# Q1. Proportion de personnes en état de sous-nutrition\n",
    "1. Calcul de la population totale en 2017"
   ]
  },
  {
   "cell_type": "code",
   "execution_count": 2,
   "metadata": {},
   "outputs": [
    {
     "name": "stdout",
     "output_type": "stream",
     "text": [
      "Total population en 2017 : 7548.13 millions \n"
     ]
    }
   ],
   "source": [
    "# Importation des données population\n",
    "population = pd.read_csv('population.csv')\n",
    "\n",
    "# Nettoyage des données\n",
    "# La population du pays exprimée en milliers d’habitants, convertir en millions\n",
    "population['Valeur'] = population['Valeur']/1000\n",
    "# Renommer la colonne valeur afin d'avoir l'unité de population visible\n",
    "population.rename(columns={'Valeur': 'Population(millions)'}, inplace=True)\n",
    "\n",
    "# Résultat\n",
    "filt_2017 = population[population['Année'] == 2017]\n",
    "pop_2017 = filt_2017['Population(millions)'].sum()\n",
    "print('Total population en 2017 : {:.2f} millions '.format(pop_2017))"
   ]
  },
  {
   "cell_type": "markdown",
   "metadata": {},
   "source": [
    "2. Calcul de la population en sous-nutrition en 2017"
   ]
  },
  {
   "cell_type": "code",
   "execution_count": 3,
   "metadata": {},
   "outputs": [
    {
     "name": "stdout",
     "output_type": "stream",
     "text": [
      "Total population en sous-nutrition en 2017 : 535.70 millions \n"
     ]
    }
   ],
   "source": [
    "# Importation des données sous-nutrition\n",
    "sous_nutri = pd.read_csv('sous_nutrition.csv')\n",
    "\n",
    "# Renommer colonne pour plus de clarté + unité de population\n",
    "sous_nutri.rename(\n",
    "    columns={'Valeur': 'Population sous-alimentée (millions)'},\n",
    "    inplace=True\n",
    ")\n",
    "# Split de la colonne Année en 2, afin de calculer la moyenne\n",
    "sous_nutri[['A1', 'A2']] = sous_nutri['Année'].str.split('-', expand=True)\n",
    "sous_nutri['A1'] = sous_nutri['A1'].astype('int64')\n",
    "sous_nutri['A2'] = sous_nutri['A2'].astype('int64')\n",
    "sous_nutri['Année'] = ((sous_nutri['A1']+sous_nutri['A2'])/2).astype('int64')\n",
    "sous_nutri.drop(columns=['A1', 'A2'], inplace=True)\n",
    "\n",
    "# Remplacer les NA en 0\n",
    "sous_nutri['Population sous-alimentée (millions)'].fillna(0, inplace=True)\n",
    "\n",
    "# Remplacer les valeurs <0.1 par 0\n",
    "sous_nutri['Population sous-alimentée (millions)'] = (\n",
    "    sous_nutri['Population sous-alimentée (millions)']\n",
    "    .str\n",
    "    .replace('<0.1', '0')\n",
    "    .astype('float')\n",
    ")\n",
    "\n",
    "# Résultat\n",
    "filt_sn_2017 = sous_nutri[sous_nutri['Année'] == 2017]\n",
    "sn_2017 = filt_sn_2017['Population sous-alimentée (millions)'].sum()\n",
    "print(\n",
    "    'Total population en sous-nutrition en 2017 : {:.2f} millions '\n",
    "    .format(sn_2017)\n",
    ")"
   ]
  },
  {
   "cell_type": "markdown",
   "metadata": {},
   "source": [
    "3. Résultat"
   ]
  },
  {
   "cell_type": "code",
   "execution_count": 4,
   "metadata": {},
   "outputs": [
    {
     "name": "stdout",
     "output_type": "stream",
     "text": [
      "Proportion de personnes en état de sous-nutrition en 2017 : 7.10%\n"
     ]
    }
   ],
   "source": [
    "print(\n",
    "    'Proportion de personnes en état de sous-nutrition en 2017 : {:.2f}%'\n",
    "    .format(sn_2017/pop_2017*100)\n",
    ")"
   ]
  },
  {
   "cell_type": "markdown",
   "metadata": {},
   "source": [
    "# Q2. Nombre théorique de personnes qui pourraient être nourries. \n",
    "(calcul à partir de la disponibilité alimentaire mondiale)"
   ]
  },
  {
   "cell_type": "markdown",
   "metadata": {},
   "source": [
    "Note : Calories moyennes par personne est de 2200 (selon source:https://www.data.gouv.fr/fr/reuses/calculateur-de-calories/)"
   ]
  },
  {
   "cell_type": "code",
   "execution_count": 5,
   "metadata": {},
   "outputs": [
    {
     "name": "stdout",
     "output_type": "stream",
     "text": [
      "Nombre théorique de personnes qui pourraient être nourries 9508629376\n",
      "Population mondiale 7548134111\n",
      "Proportion de pers. qui théoriquement pourraient être nourries 125.97%\n"
     ]
    }
   ],
   "source": [
    "# Importation des données de disponibilité alimentaire mondiale\n",
    "dispo_a = pd.read_csv('dispo_alimentaire.csv')\n",
    "\n",
    "# Garder les colonnes pertinentes\n",
    "dispo = (dispo_a.drop([\n",
    "    'Aliments pour animaux',\n",
    "    'Autres Utilisations',\n",
    "    'Disponibilité alimentaire en quantité (kg/personne/an)',\n",
    "    'Disponibilité de matière grasse en quantité (g/personne/jour)',\n",
    "    'Disponibilité de protéines en quantité (g/personne/jour)',\n",
    "    'Disponibilité intérieure',\n",
    "    'Exportations - Quantité',\n",
    "    'Importations - Quantité',\n",
    "    'Nourriture',\n",
    "    'Pertes',\n",
    "    'Production',\n",
    "    'Semences',\n",
    "    'Traitement',\n",
    "    'Variation de stock'],\n",
    "    axis=1))\n",
    "\n",
    "# Grouper par disponibilités alimentaires en calories/pers/jour par pays\n",
    "grp_pays = dispo.groupby('Zone')\n",
    "\n",
    "# Fusion DF population avec les disponibilités alimentaires mondiales\n",
    "q2 = (pd.DataFrame(grp_pays['Disponibilité alimentaire (Kcal/personne/jour)']\n",
    "                   .sum()\n",
    "                   .reset_index()))\n",
    "filt_2017 = filt_2017.reset_index()\n",
    "q2 = pd.merge(filt_2017, q2, on='Zone', how='left')\n",
    "\n",
    "# Dispo alimentaire mondiale\n",
    "q2['Total_dispo'] = (q2['Population(millions)']\n",
    "                     * q2['Disponibilité alimentaire (Kcal/personne/jour)']\n",
    "                     * 1_000_000)\n",
    "\n",
    "# Résultat\n",
    "nb = (q2['Total_dispo'].sum())/2200\n",
    "print('Nombre théorique de personnes qui pourraient être nourries {:.0f}'\n",
    "      .format(nb))\n",
    "print('Population mondiale {:.0f}'\n",
    "      .format(pop_2017*1_000_000))\n",
    "print(\n",
    "    'Proportion de pers. qui théoriquement pourraient être nourries {:.2f}%'\n",
    "    .format(nb/(pop_2017*1_000_000)*100))"
   ]
  },
  {
   "cell_type": "markdown",
   "metadata": {},
   "source": [
    "# Q3. Idem pour la disponibilité alimentaire des produits végétaux "
   ]
  },
  {
   "cell_type": "code",
   "execution_count": 6,
   "metadata": {},
   "outputs": [
    {
     "name": "stdout",
     "output_type": "stream",
     "text": [
      "Nombre théorique de personnes qui pourraient être nourries seulement avec les produits végétaux 7845801914\n",
      "Proportion de personnes qui théoriquement pourraient être nourries seulement avec les produits végétaux 103.94%\n"
     ]
    }
   ],
   "source": [
    "# Filtre sur la disponibilité alimentaire d'origine végétale\n",
    "filt_veg = pd.DataFrame(dispo[dispo['Origine'] == 'vegetale'].reset_index())\n",
    "grp_pays_v = filt_veg.groupby('Zone')\n",
    "q3 = pd.DataFrame(grp_pays_v['Disponibilité alimentaire (Kcal/personne/jour)']\n",
    "                  .sum()\n",
    "                  .reset_index())\n",
    "q3 = pd.merge(filt_2017, q3, on='Zone', how='left')\n",
    "q3['Total_dispo'] = (q3['Population(millions)']\n",
    "                     * q3['Disponibilité alimentaire (Kcal/personne/jour)']\n",
    "                     * 1_000_000)\n",
    "\n",
    "# Résultat\n",
    "nb = (q3['Total_dispo'].sum())/2200\n",
    "print('Nombre théorique de personnes qui pourraient être nourries \\\n",
    "seulement avec les produits végétaux {:.0f}'\n",
    "      .format(nb))\n",
    "print('Proportion de personnes qui théoriquement pourraient être nourries \\\n",
    "seulement avec les produits végétaux {:.2f}%'\n",
    "      .format(nb/(pop_2017*1_000_000)*100))"
   ]
  },
  {
   "cell_type": "markdown",
   "metadata": {},
   "source": [
    "### Conclusion Q1/Q2/Q3\n",
    "7,10% de la population mondiale en 2017 est en sous-nutrition alors que d'après les calculs à partir de la disponibilité alimentaire mondiale, celle-ci pourrait théoriquement couvrir plus de la totalité (125%) des besoins alimentaires en quantité suffisante et en qualité appropriée. Ces besoins pourraient même être couverts seulement avec la disponibilité alimentaires d'origine végétale."
   ]
  },
  {
   "cell_type": "markdown",
   "metadata": {},
   "source": [
    "# Q4. Quelle est l’utilisation de la disponibilité intérieure, en particulier la part qui est attribuée à l’alimentation animale, celle qui est perdue et celle qui est concrètement utilisée pour l'alimentation humaine. "
   ]
  },
  {
   "cell_type": "markdown",
   "metadata": {},
   "source": [
    "Note : \n",
    "- Disponibilité intérieure = Aliments pour animaux + Autre + Nourriture + Pertes + Semences + Traitement\n",
    "- Disponibilité intérieure = Production + Importation - Exportation + Variation de stock"
   ]
  },
  {
   "cell_type": "code",
   "execution_count": 7,
   "metadata": {},
   "outputs": [
    {
     "name": "stdout",
     "output_type": "stream",
     "text": [
      "L'utilisation de la disponibilité intérieure se répartit de cette façon :\n",
      "- alimentation humaine 49.51%\n",
      "- alimentation animale 13.24%\n",
      "- alimentation perdue 4.61%\n",
      "- le reste se répartit entre d'autres utilisations (dont semences et traitement) 32.74%\n"
     ]
    }
   ],
   "source": [
    "# Garder les colonnes pertinentes\n",
    "q4 = dispo_a.drop(['Produit',\n",
    "                   'Origine',\n",
    "                   'Disponibilité alimentaire (Kcal/personne/jour)',\n",
    "                   'Disponibilité alimentaire en quantité (kg/personne/an)',\n",
    "                   'Disponibilité de matière grasse en quantité (g/personne/jour)',\n",
    "                   'Disponibilité de protéines en quantité (g/personne/jour)'],\n",
    "                  axis=1)\n",
    "\n",
    "somme = q4['Disponibilité intérieure'].sum()\n",
    "ali_h = q4['Nourriture'].sum()/somme*100\n",
    "ali_a = q4['Aliments pour animaux'].sum()/somme*100\n",
    "pertes = q4['Pertes'].sum()/somme*100\n",
    "autre = q4['Autres Utilisations'].sum()/somme*100\n",
    "semences = q4['Semences'].sum()/somme*100\n",
    "traitement = q4['Traitement'].sum()/somme*100\n",
    "\n",
    "# Résultat\n",
    "print(\"L'utilisation de la disponibilité intérieure se répartit de cette façon :\")\n",
    "print(\"- alimentation humaine {:.2f}%\".format(ali_h))\n",
    "print(\"- alimentation animale {:.2f}%\".format(ali_a))\n",
    "print(\"- alimentation perdue {:.2f}%\".format(pertes))\n",
    "print(\"- le reste se répartit entre d'autres utilisations (dont semences et traitement) {:.2f}%\"\n",
    "      .format(semences+traitement+autre))"
   ]
  },
  {
   "cell_type": "markdown",
   "metadata": {},
   "source": [
    "# Q5. Requêtes additionnelles\n",
    "### Q5.1 Notes et recherches de Julien:\n",
    "_Lors de mes recherches, j’ai découvert des chiffres intéressants sur l’utilisation des céréales, notamment la répartition entre l’alimentation humaine (colonne Nourriture) et l’alimentation pour animaux. La liste des céréales peut être trouvée en allant fouiller un peu dans l’onglet Bilans alimentaires, sur le lien http://www.fao.org/faostat/fr/#data._"
   ]
  },
  {
   "cell_type": "code",
   "execution_count": 8,
   "metadata": {},
   "outputs": [
    {
     "name": "stdout",
     "output_type": "stream",
     "text": [
      "Utilisation des céréales pour l'alimentation animale: 62.12%\n",
      "Utilisation des céréales pour l'alimentation humaine: 26.28%\n"
     ]
    }
   ],
   "source": [
    "# Importation des données céréales sur le site donné\n",
    "cereales = pd.read_csv(\n",
    "    'BilansAlimentaires_F_Toutes_les_Données.csv',\n",
    "    sep=',',\n",
    "    encoding='latin1'\n",
    ")\n",
    "\n",
    "c = cereales.loc[\n",
    "    (cereales['Produit'] == 'Céréales, Autres'),\n",
    "    ['Élément', 'Y2017']\n",
    "]\n",
    "\n",
    "c = c.rename(columns={'Y2017': 'Céréales (milliers de tonnes)'})\n",
    "\n",
    "# Répartition par pourcentage\n",
    "ani = c[c['Élément'] == 'Aliments pour animaux']['Céréales (milliers de tonnes)'].sum()\\\n",
    "/c[c['Élément'] == 'Disponibilité intérieure']['Céréales (milliers de tonnes)'].sum() * 100\n",
    "\n",
    "hum = c[c['Élément'] == 'Nourriture']['Céréales (milliers de tonnes)'].sum()\\\n",
    "/c[c['Élément'] == 'Disponibilité intérieure']['Céréales (milliers de tonnes)'].sum() * 100\n",
    "\n",
    "# Résultat\n",
    "print(\"Utilisation des céréales pour l'alimentation animale: {:.2f}%\".format(ani))\n",
    "print(\"Utilisation des céréales pour l'alimentation humaine: {:.2f}%\".format(hum))"
   ]
  },
  {
   "cell_type": "markdown",
   "metadata": {},
   "source": [
    "Sur l'ensemble des utilisations faites pour les céréales on remarque que l'utilisation est bien plus élevée pour alimenter les animaux (62%) que les hommes (26%)."
   ]
  },
  {
   "cell_type": "markdown",
   "metadata": {},
   "source": [
    "### Q5.2 Notes et recherches de Julien (suite):\n",
    "_Enfin, je me souviens d’un exemple étonnant d’utilisation du manioc par la Thaïlande aux égards de la proportion de personnes en sous-nutrition. Il serait intéressant d’aller à nouveau y jeter un coup d’œil, de mémoire ça concernait l’exportation par rapport à la production._"
   ]
  },
  {
   "cell_type": "markdown",
   "metadata": {},
   "source": [
    "Population en sous-nutrition en Thaïlande"
   ]
  },
  {
   "cell_type": "code",
   "execution_count": 9,
   "metadata": {},
   "outputs": [
    {
     "data": {
      "text/html": [
       "<div>\n",
       "<style scoped>\n",
       "    .dataframe tbody tr th:only-of-type {\n",
       "        vertical-align: middle;\n",
       "    }\n",
       "\n",
       "    .dataframe tbody tr th {\n",
       "        vertical-align: top;\n",
       "    }\n",
       "\n",
       "    .dataframe thead th {\n",
       "        text-align: right;\n",
       "    }\n",
       "</style>\n",
       "<table border=\"1\" class=\"dataframe\">\n",
       "  <thead>\n",
       "    <tr style=\"text-align: right;\">\n",
       "      <th></th>\n",
       "      <th>index</th>\n",
       "      <th>Zone</th>\n",
       "      <th>Année</th>\n",
       "      <th>Population(millions)</th>\n",
       "      <th>Population sous-alimentée (millions)</th>\n",
       "      <th>Pourcentage sous-nutrion</th>\n",
       "    </tr>\n",
       "  </thead>\n",
       "  <tbody>\n",
       "    <tr>\n",
       "      <th>0</th>\n",
       "      <td>1312</td>\n",
       "      <td>Thaïlande</td>\n",
       "      <td>2017</td>\n",
       "      <td>69.20981</td>\n",
       "      <td>6.2</td>\n",
       "      <td>8.958268</td>\n",
       "    </tr>\n",
       "  </tbody>\n",
       "</table>\n",
       "</div>"
      ],
      "text/plain": [
       "   index       Zone  Année  Population(millions)  \\\n",
       "0   1312  Thaïlande   2017              69.20981   \n",
       "\n",
       "   Population sous-alimentée (millions)  Pourcentage sous-nutrion  \n",
       "0                                   6.2                  8.958268  "
      ]
     },
     "execution_count": 9,
     "metadata": {},
     "output_type": "execute_result"
    }
   ],
   "source": [
    "thai = filt_2017[filt_2017['Zone'] == 'Thaïlande']\n",
    "thai = thai.merge(\n",
    "    filt_sn_2017[['Zone', 'Population sous-alimentée (millions)']],\n",
    "    on='Zone',\n",
    "    how='left'\n",
    ")\n",
    "thai['Pourcentage sous-nutrion'] = (thai['Population sous-alimentée (millions)']\n",
    "                                    / thai['Population(millions)']\n",
    "                                    * 100)\n",
    "thai.head()"
   ]
  },
  {
   "cell_type": "markdown",
   "metadata": {},
   "source": [
    "Utilisation du manioc en Thaïlande"
   ]
  },
  {
   "cell_type": "code",
   "execution_count": 10,
   "metadata": {},
   "outputs": [
    {
     "data": {
      "text/html": [
       "<div>\n",
       "<style scoped>\n",
       "    .dataframe tbody tr th:only-of-type {\n",
       "        vertical-align: middle;\n",
       "    }\n",
       "\n",
       "    .dataframe tbody tr th {\n",
       "        vertical-align: top;\n",
       "    }\n",
       "\n",
       "    .dataframe thead th {\n",
       "        text-align: right;\n",
       "    }\n",
       "</style>\n",
       "<table border=\"1\" class=\"dataframe\">\n",
       "  <thead>\n",
       "    <tr style=\"text-align: right;\">\n",
       "      <th></th>\n",
       "      <th>Zone</th>\n",
       "      <th>Produit</th>\n",
       "      <th>Exportations - Quantité</th>\n",
       "      <th>Importations - Quantité</th>\n",
       "      <th>Production</th>\n",
       "      <th>Export %</th>\n",
       "      <th>Import %</th>\n",
       "    </tr>\n",
       "  </thead>\n",
       "  <tbody>\n",
       "    <tr>\n",
       "      <th>13809</th>\n",
       "      <td>Thaïlande</td>\n",
       "      <td>Manioc</td>\n",
       "      <td>25214.0</td>\n",
       "      <td>1250.0</td>\n",
       "      <td>30228.0</td>\n",
       "      <td>83.41273</td>\n",
       "      <td>4.135239</td>\n",
       "    </tr>\n",
       "  </tbody>\n",
       "</table>\n",
       "</div>"
      ],
      "text/plain": [
       "            Zone Produit  Exportations - Quantité  Importations - Quantité  \\\n",
       "13809  Thaïlande  Manioc                  25214.0                   1250.0   \n",
       "\n",
       "       Production  Export %  Import %  \n",
       "13809     30228.0  83.41273  4.135239  "
      ]
     },
     "execution_count": 10,
     "metadata": {},
     "output_type": "execute_result"
    }
   ],
   "source": [
    "f_thai = dispo_a['Zone'] == 'Thaïlande'\n",
    "f_manioc = dispo_a['Produit'] == 'Manioc'\n",
    "manioc = dispo_a[f_thai & f_manioc].loc[:,\n",
    "                                        ['Zone',\n",
    "                                         'Produit',\n",
    "                                         'Exportations - Quantité',\n",
    "                                         'Importations - Quantité',\n",
    "                                         'Production']]\n",
    "manioc['Export %'] = (manioc['Exportations - Quantité']\n",
    "                      / manioc['Production']\n",
    "                      * 100)\n",
    "manioc['Import %'] = (manioc['Importations - Quantité']\n",
    "                      / manioc['Production']\n",
    "                      * 100)\n",
    "manioc.head()"
   ]
  },
  {
   "cell_type": "markdown",
   "metadata": {},
   "source": [
    "La Thaïlande exporte la majorité de sa production de Manioc (soit 83%), alors presque 9% de sa population est en sous-nutrition."
   ]
  },
  {
   "cell_type": "markdown",
   "metadata": {},
   "source": [
    "# PARTIE 2\n",
    "\n",
    "_Je souhaiterais avoir une étude un peu plus fine pour chacun des pays. Par exemple, j’aimerais que tu puisses nous donner:_\n",
    "\n",
    "_- les pays pour lesquels la proportion de personnes sous-alimentées est la plus forte en 2017_\n",
    "\n",
    "_- ceux qui ont le plus bénéficié d’aide depuis 2013_\n",
    "\n",
    "_- ceux ayant le plus/le moins de disponibilité/habitant, etc., et toutes les infos que tu trouverais utiles pour mettre en relief les pays qui semblent être le plus en difficulté, au niveau alimentaire._"
   ]
  },
  {
   "cell_type": "markdown",
   "metadata": {},
   "source": [
    "# Q6. Pays pour lesquels la proportion de personnes sous-alimentées est la plus forte en 2017"
   ]
  },
  {
   "cell_type": "code",
   "execution_count": 11,
   "metadata": {},
   "outputs": [
    {
     "data": {
      "text/html": [
       "<div>\n",
       "<style scoped>\n",
       "    .dataframe tbody tr th:only-of-type {\n",
       "        vertical-align: middle;\n",
       "    }\n",
       "\n",
       "    .dataframe tbody tr th {\n",
       "        vertical-align: top;\n",
       "    }\n",
       "\n",
       "    .dataframe thead th {\n",
       "        text-align: right;\n",
       "    }\n",
       "</style>\n",
       "<table border=\"1\" class=\"dataframe\">\n",
       "  <thead>\n",
       "    <tr style=\"text-align: right;\">\n",
       "      <th></th>\n",
       "      <th>index</th>\n",
       "      <th>Zone</th>\n",
       "      <th>Population sous-alimentée (millions)</th>\n",
       "      <th>Population(millions)</th>\n",
       "      <th>Proportion de pers. sous alimentées</th>\n",
       "    </tr>\n",
       "  </thead>\n",
       "  <tbody>\n",
       "    <tr>\n",
       "      <th>0</th>\n",
       "      <td>78</td>\n",
       "      <td>Haïti</td>\n",
       "      <td>5.3</td>\n",
       "      <td>10.982366</td>\n",
       "      <td>48.259182</td>\n",
       "    </tr>\n",
       "    <tr>\n",
       "      <th>1</th>\n",
       "      <td>157</td>\n",
       "      <td>République populaire démocratique de Corée</td>\n",
       "      <td>12.0</td>\n",
       "      <td>25.429825</td>\n",
       "      <td>47.188685</td>\n",
       "    </tr>\n",
       "    <tr>\n",
       "      <th>2</th>\n",
       "      <td>108</td>\n",
       "      <td>Madagascar</td>\n",
       "      <td>10.5</td>\n",
       "      <td>25.570512</td>\n",
       "      <td>41.062924</td>\n",
       "    </tr>\n",
       "    <tr>\n",
       "      <th>3</th>\n",
       "      <td>103</td>\n",
       "      <td>Libéria</td>\n",
       "      <td>1.8</td>\n",
       "      <td>4.702226</td>\n",
       "      <td>38.279742</td>\n",
       "    </tr>\n",
       "    <tr>\n",
       "      <th>4</th>\n",
       "      <td>100</td>\n",
       "      <td>Lesotho</td>\n",
       "      <td>0.8</td>\n",
       "      <td>2.091534</td>\n",
       "      <td>38.249438</td>\n",
       "    </tr>\n",
       "    <tr>\n",
       "      <th>5</th>\n",
       "      <td>183</td>\n",
       "      <td>Tchad</td>\n",
       "      <td>5.7</td>\n",
       "      <td>15.016753</td>\n",
       "      <td>37.957606</td>\n",
       "    </tr>\n",
       "    <tr>\n",
       "      <th>6</th>\n",
       "      <td>161</td>\n",
       "      <td>Rwanda</td>\n",
       "      <td>4.2</td>\n",
       "      <td>11.980961</td>\n",
       "      <td>35.055619</td>\n",
       "    </tr>\n",
       "    <tr>\n",
       "      <th>7</th>\n",
       "      <td>121</td>\n",
       "      <td>Mozambique</td>\n",
       "      <td>9.4</td>\n",
       "      <td>28.649018</td>\n",
       "      <td>32.810898</td>\n",
       "    </tr>\n",
       "    <tr>\n",
       "      <th>8</th>\n",
       "      <td>186</td>\n",
       "      <td>Timor-Leste</td>\n",
       "      <td>0.4</td>\n",
       "      <td>1.243258</td>\n",
       "      <td>32.173531</td>\n",
       "    </tr>\n",
       "    <tr>\n",
       "      <th>9</th>\n",
       "      <td>0</td>\n",
       "      <td>Afghanistan</td>\n",
       "      <td>10.5</td>\n",
       "      <td>36.296113</td>\n",
       "      <td>28.928718</td>\n",
       "    </tr>\n",
       "  </tbody>\n",
       "</table>\n",
       "</div>"
      ],
      "text/plain": [
       "   index                                        Zone  \\\n",
       "0     78                                       Haïti   \n",
       "1    157  République populaire démocratique de Corée   \n",
       "2    108                                  Madagascar   \n",
       "3    103                                     Libéria   \n",
       "4    100                                     Lesotho   \n",
       "5    183                                       Tchad   \n",
       "6    161                                      Rwanda   \n",
       "7    121                                  Mozambique   \n",
       "8    186                                 Timor-Leste   \n",
       "9      0                                 Afghanistan   \n",
       "\n",
       "   Population sous-alimentée (millions)  Population(millions)  \\\n",
       "0                                   5.3             10.982366   \n",
       "1                                  12.0             25.429825   \n",
       "2                                  10.5             25.570512   \n",
       "3                                   1.8              4.702226   \n",
       "4                                   0.8              2.091534   \n",
       "5                                   5.7             15.016753   \n",
       "6                                   4.2             11.980961   \n",
       "7                                   9.4             28.649018   \n",
       "8                                   0.4              1.243258   \n",
       "9                                  10.5             36.296113   \n",
       "\n",
       "   Proportion de pers. sous alimentées  \n",
       "0                            48.259182  \n",
       "1                            47.188685  \n",
       "2                            41.062924  \n",
       "3                            38.279742  \n",
       "4                            38.249438  \n",
       "5                            37.957606  \n",
       "6                            35.055619  \n",
       "7                            32.810898  \n",
       "8                            32.173531  \n",
       "9                            28.928718  "
      ]
     },
     "execution_count": 11,
     "metadata": {},
     "output_type": "execute_result"
    }
   ],
   "source": [
    "df_2017 = pd.merge(filt_sn_2017,\n",
    "                   filt_2017,\n",
    "                   on='Zone',\n",
    "                   how='left')\n",
    "df_2017 = df_2017.drop(\n",
    "    ['Année_x',\n",
    "     'Année_y',\n",
    "     'index'],\n",
    "    axis=1\n",
    ")\n",
    "df_2017['Proportion de pers. sous alimentées'] = (df_2017['Population sous-alimentée (millions)']\n",
    "                                                  / df_2017['Population(millions)']\n",
    "                                                  * 100)\n",
    "df_2017.sort_values(by='Proportion de pers. sous alimentées',\n",
    "                    ascending=False,\n",
    "                    inplace=True)\n",
    "df_2017.reset_index().head(10)"
   ]
  },
  {
   "cell_type": "markdown",
   "metadata": {},
   "source": [
    "# Q7. Ceux qui ont le plus bénéficié d’aide depuis 2013"
   ]
  },
  {
   "cell_type": "code",
   "execution_count": 12,
   "metadata": {},
   "outputs": [
    {
     "data": {
      "text/html": [
       "<div>\n",
       "<style scoped>\n",
       "    .dataframe tbody tr th:only-of-type {\n",
       "        vertical-align: middle;\n",
       "    }\n",
       "\n",
       "    .dataframe tbody tr th {\n",
       "        vertical-align: top;\n",
       "    }\n",
       "\n",
       "    .dataframe thead th {\n",
       "        text-align: right;\n",
       "    }\n",
       "</style>\n",
       "<table border=\"1\" class=\"dataframe\">\n",
       "  <thead>\n",
       "    <tr style=\"text-align: right;\">\n",
       "      <th></th>\n",
       "      <th>Pays bénéficiaire</th>\n",
       "      <th>Valeur</th>\n",
       "    </tr>\n",
       "  </thead>\n",
       "  <tbody>\n",
       "    <tr>\n",
       "      <th>50</th>\n",
       "      <td>République arabe syrienne</td>\n",
       "      <td>1858943</td>\n",
       "    </tr>\n",
       "    <tr>\n",
       "      <th>75</th>\n",
       "      <td>Éthiopie</td>\n",
       "      <td>1381294</td>\n",
       "    </tr>\n",
       "    <tr>\n",
       "      <th>70</th>\n",
       "      <td>Yémen</td>\n",
       "      <td>1206484</td>\n",
       "    </tr>\n",
       "    <tr>\n",
       "      <th>61</th>\n",
       "      <td>Soudan du Sud</td>\n",
       "      <td>695248</td>\n",
       "    </tr>\n",
       "    <tr>\n",
       "      <th>60</th>\n",
       "      <td>Soudan</td>\n",
       "      <td>669784</td>\n",
       "    </tr>\n",
       "    <tr>\n",
       "      <th>30</th>\n",
       "      <td>Kenya</td>\n",
       "      <td>552836</td>\n",
       "    </tr>\n",
       "    <tr>\n",
       "      <th>3</th>\n",
       "      <td>Bangladesh</td>\n",
       "      <td>348188</td>\n",
       "    </tr>\n",
       "    <tr>\n",
       "      <th>59</th>\n",
       "      <td>Somalie</td>\n",
       "      <td>292678</td>\n",
       "    </tr>\n",
       "    <tr>\n",
       "      <th>53</th>\n",
       "      <td>République démocratique du Congo</td>\n",
       "      <td>288502</td>\n",
       "    </tr>\n",
       "    <tr>\n",
       "      <th>43</th>\n",
       "      <td>Niger</td>\n",
       "      <td>276344</td>\n",
       "    </tr>\n",
       "  </tbody>\n",
       "</table>\n",
       "</div>"
      ],
      "text/plain": [
       "                   Pays bénéficiaire   Valeur\n",
       "50         République arabe syrienne  1858943\n",
       "75                          Éthiopie  1381294\n",
       "70                             Yémen  1206484\n",
       "61                     Soudan du Sud   695248\n",
       "60                            Soudan   669784\n",
       "30                             Kenya   552836\n",
       "3                         Bangladesh   348188\n",
       "59                           Somalie   292678\n",
       "53  République démocratique du Congo   288502\n",
       "43                             Niger   276344"
      ]
     },
     "execution_count": 12,
     "metadata": {},
     "output_type": "execute_result"
    }
   ],
   "source": [
    "aide = pd.read_csv('aide_alimentaire.csv')\n",
    "grp = aide.groupby(['Pays bénéficiaire'])\n",
    "(grp['Valeur']\n",
    " .sum()\n",
    " .reset_index()\n",
    " .sort_values(by='Valeur', ascending=False)\n",
    " .head(10))"
   ]
  },
  {
   "cell_type": "markdown",
   "metadata": {},
   "source": [
    "# Q8. Ceux ayant le plus/le moins de disponibilité/habitant, etc.,\n",
    "\n",
    "_Toutes les infos que tu trouverais utiles pour mettre en relief les pays qui semblent être le plus en difficulté, au niveau alimentaire._"
   ]
  },
  {
   "cell_type": "code",
   "execution_count": 13,
   "metadata": {
    "scrolled": true
   },
   "outputs": [],
   "source": [
    "df_q8 = dispo_a.loc[:, ['Zone', 'Disponibilité alimentaire (Kcal/personne/jour)']]\n",
    "df_q8 = (df_q8\n",
    "         .groupby(['Zone'])\n",
    "         .agg({'Disponibilité alimentaire (Kcal/personne/jour)': 'sum'}))\n",
    "df_q8 = df_q8.merge(df_2017, on='Zone', how='left')"
   ]
  },
  {
   "cell_type": "markdown",
   "metadata": {},
   "source": [
    "Les 10 pays ayant le plus de disponibilité alimentaire par habitant"
   ]
  },
  {
   "cell_type": "code",
   "execution_count": 14,
   "metadata": {},
   "outputs": [
    {
     "data": {
      "text/html": [
       "<div>\n",
       "<style scoped>\n",
       "    .dataframe tbody tr th:only-of-type {\n",
       "        vertical-align: middle;\n",
       "    }\n",
       "\n",
       "    .dataframe tbody tr th {\n",
       "        vertical-align: top;\n",
       "    }\n",
       "\n",
       "    .dataframe thead th {\n",
       "        text-align: right;\n",
       "    }\n",
       "</style>\n",
       "<table border=\"1\" class=\"dataframe\">\n",
       "  <thead>\n",
       "    <tr style=\"text-align: right;\">\n",
       "      <th></th>\n",
       "      <th>Zone</th>\n",
       "      <th>Disponibilité alimentaire (Kcal/personne/jour)</th>\n",
       "      <th>Population sous-alimentée (millions)</th>\n",
       "      <th>Population(millions)</th>\n",
       "      <th>Proportion de pers. sous alimentées</th>\n",
       "    </tr>\n",
       "  </thead>\n",
       "  <tbody>\n",
       "    <tr>\n",
       "      <th>11</th>\n",
       "      <td>Autriche</td>\n",
       "      <td>3770.0</td>\n",
       "      <td>NaN</td>\n",
       "      <td>8.819901</td>\n",
       "      <td>NaN</td>\n",
       "    </tr>\n",
       "    <tr>\n",
       "      <th>16</th>\n",
       "      <td>Belgique</td>\n",
       "      <td>3737.0</td>\n",
       "      <td>NaN</td>\n",
       "      <td>11.419748</td>\n",
       "      <td>NaN</td>\n",
       "    </tr>\n",
       "    <tr>\n",
       "      <th>159</th>\n",
       "      <td>Turquie</td>\n",
       "      <td>3708.0</td>\n",
       "      <td>NaN</td>\n",
       "      <td>81.116450</td>\n",
       "      <td>NaN</td>\n",
       "    </tr>\n",
       "    <tr>\n",
       "      <th>171</th>\n",
       "      <td>États-Unis d'Amérique</td>\n",
       "      <td>3682.0</td>\n",
       "      <td>NaN</td>\n",
       "      <td>325.084756</td>\n",
       "      <td>NaN</td>\n",
       "    </tr>\n",
       "    <tr>\n",
       "      <th>74</th>\n",
       "      <td>Israël</td>\n",
       "      <td>3610.0</td>\n",
       "      <td>NaN</td>\n",
       "      <td>8.243848</td>\n",
       "      <td>NaN</td>\n",
       "    </tr>\n",
       "    <tr>\n",
       "      <th>72</th>\n",
       "      <td>Irlande</td>\n",
       "      <td>3602.0</td>\n",
       "      <td>NaN</td>\n",
       "      <td>4.753279</td>\n",
       "      <td>NaN</td>\n",
       "    </tr>\n",
       "    <tr>\n",
       "      <th>75</th>\n",
       "      <td>Italie</td>\n",
       "      <td>3578.0</td>\n",
       "      <td>NaN</td>\n",
       "      <td>60.673701</td>\n",
       "      <td>NaN</td>\n",
       "    </tr>\n",
       "    <tr>\n",
       "      <th>89</th>\n",
       "      <td>Luxembourg</td>\n",
       "      <td>3540.0</td>\n",
       "      <td>NaN</td>\n",
       "      <td>0.591910</td>\n",
       "      <td>NaN</td>\n",
       "    </tr>\n",
       "    <tr>\n",
       "      <th>168</th>\n",
       "      <td>Égypte</td>\n",
       "      <td>3518.0</td>\n",
       "      <td>4.6</td>\n",
       "      <td>96.442591</td>\n",
       "      <td>4.769677</td>\n",
       "    </tr>\n",
       "    <tr>\n",
       "      <th>4</th>\n",
       "      <td>Allemagne</td>\n",
       "      <td>3503.0</td>\n",
       "      <td>NaN</td>\n",
       "      <td>82.658409</td>\n",
       "      <td>NaN</td>\n",
       "    </tr>\n",
       "  </tbody>\n",
       "</table>\n",
       "</div>"
      ],
      "text/plain": [
       "                      Zone  Disponibilité alimentaire (Kcal/personne/jour)  \\\n",
       "11                Autriche                                          3770.0   \n",
       "16                Belgique                                          3737.0   \n",
       "159                Turquie                                          3708.0   \n",
       "171  États-Unis d'Amérique                                          3682.0   \n",
       "74                  Israël                                          3610.0   \n",
       "72                 Irlande                                          3602.0   \n",
       "75                  Italie                                          3578.0   \n",
       "89              Luxembourg                                          3540.0   \n",
       "168                 Égypte                                          3518.0   \n",
       "4                Allemagne                                          3503.0   \n",
       "\n",
       "     Population sous-alimentée (millions)  Population(millions)  \\\n",
       "11                                    NaN              8.819901   \n",
       "16                                    NaN             11.419748   \n",
       "159                                   NaN             81.116450   \n",
       "171                                   NaN            325.084756   \n",
       "74                                    NaN              8.243848   \n",
       "72                                    NaN              4.753279   \n",
       "75                                    NaN             60.673701   \n",
       "89                                    NaN              0.591910   \n",
       "168                                   4.6             96.442591   \n",
       "4                                     NaN             82.658409   \n",
       "\n",
       "     Proportion de pers. sous alimentées  \n",
       "11                                   NaN  \n",
       "16                                   NaN  \n",
       "159                                  NaN  \n",
       "171                                  NaN  \n",
       "74                                   NaN  \n",
       "72                                   NaN  \n",
       "75                                   NaN  \n",
       "89                                   NaN  \n",
       "168                             4.769677  \n",
       "4                                    NaN  "
      ]
     },
     "execution_count": 14,
     "metadata": {},
     "output_type": "execute_result"
    }
   ],
   "source": [
    "(df_q8\n",
    " .sort_values('Disponibilité alimentaire (Kcal/personne/jour)',\n",
    "              ascending=False)\n",
    " .head(10))"
   ]
  },
  {
   "cell_type": "markdown",
   "metadata": {},
   "source": [
    "Les 10 ayant le moins de disponibilité alimentaire par habitant "
   ]
  },
  {
   "cell_type": "code",
   "execution_count": 15,
   "metadata": {},
   "outputs": [
    {
     "data": {
      "text/html": [
       "<div>\n",
       "<style scoped>\n",
       "    .dataframe tbody tr th:only-of-type {\n",
       "        vertical-align: middle;\n",
       "    }\n",
       "\n",
       "    .dataframe tbody tr th {\n",
       "        vertical-align: top;\n",
       "    }\n",
       "\n",
       "    .dataframe thead th {\n",
       "        text-align: right;\n",
       "    }\n",
       "</style>\n",
       "<table border=\"1\" class=\"dataframe\">\n",
       "  <thead>\n",
       "    <tr style=\"text-align: right;\">\n",
       "      <th></th>\n",
       "      <th>Zone</th>\n",
       "      <th>Disponibilité alimentaire (Kcal/personne/jour)</th>\n",
       "      <th>Population sous-alimentée (millions)</th>\n",
       "      <th>Population(millions)</th>\n",
       "      <th>Proportion de pers. sous alimentées</th>\n",
       "    </tr>\n",
       "  </thead>\n",
       "  <tbody>\n",
       "    <tr>\n",
       "      <th>128</th>\n",
       "      <td>République centrafricaine</td>\n",
       "      <td>1879.0</td>\n",
       "      <td>NaN</td>\n",
       "      <td>4.596023</td>\n",
       "      <td>NaN</td>\n",
       "    </tr>\n",
       "    <tr>\n",
       "      <th>166</th>\n",
       "      <td>Zambie</td>\n",
       "      <td>1924.0</td>\n",
       "      <td>NaN</td>\n",
       "      <td>16.853599</td>\n",
       "      <td>NaN</td>\n",
       "    </tr>\n",
       "    <tr>\n",
       "      <th>91</th>\n",
       "      <td>Madagascar</td>\n",
       "      <td>2056.0</td>\n",
       "      <td>10.5</td>\n",
       "      <td>25.570512</td>\n",
       "      <td>41.062924</td>\n",
       "    </tr>\n",
       "    <tr>\n",
       "      <th>0</th>\n",
       "      <td>Afghanistan</td>\n",
       "      <td>2087.0</td>\n",
       "      <td>10.5</td>\n",
       "      <td>36.296113</td>\n",
       "      <td>28.928718</td>\n",
       "    </tr>\n",
       "    <tr>\n",
       "      <th>65</th>\n",
       "      <td>Haïti</td>\n",
       "      <td>2089.0</td>\n",
       "      <td>5.3</td>\n",
       "      <td>10.982366</td>\n",
       "      <td>48.259182</td>\n",
       "    </tr>\n",
       "    <tr>\n",
       "      <th>133</th>\n",
       "      <td>République populaire démocratique de Corée</td>\n",
       "      <td>2093.0</td>\n",
       "      <td>12.0</td>\n",
       "      <td>25.429825</td>\n",
       "      <td>47.188685</td>\n",
       "    </tr>\n",
       "    <tr>\n",
       "      <th>151</th>\n",
       "      <td>Tchad</td>\n",
       "      <td>2109.0</td>\n",
       "      <td>5.7</td>\n",
       "      <td>15.016753</td>\n",
       "      <td>37.957606</td>\n",
       "    </tr>\n",
       "    <tr>\n",
       "      <th>167</th>\n",
       "      <td>Zimbabwe</td>\n",
       "      <td>2113.0</td>\n",
       "      <td>NaN</td>\n",
       "      <td>14.236595</td>\n",
       "      <td>NaN</td>\n",
       "    </tr>\n",
       "    <tr>\n",
       "      <th>114</th>\n",
       "      <td>Ouganda</td>\n",
       "      <td>2126.0</td>\n",
       "      <td>NaN</td>\n",
       "      <td>41.166588</td>\n",
       "      <td>NaN</td>\n",
       "    </tr>\n",
       "    <tr>\n",
       "      <th>154</th>\n",
       "      <td>Timor-Leste</td>\n",
       "      <td>2129.0</td>\n",
       "      <td>0.4</td>\n",
       "      <td>1.243258</td>\n",
       "      <td>32.173531</td>\n",
       "    </tr>\n",
       "  </tbody>\n",
       "</table>\n",
       "</div>"
      ],
      "text/plain": [
       "                                           Zone  \\\n",
       "128                   République centrafricaine   \n",
       "166                                      Zambie   \n",
       "91                                   Madagascar   \n",
       "0                                   Afghanistan   \n",
       "65                                        Haïti   \n",
       "133  République populaire démocratique de Corée   \n",
       "151                                       Tchad   \n",
       "167                                    Zimbabwe   \n",
       "114                                     Ouganda   \n",
       "154                                 Timor-Leste   \n",
       "\n",
       "     Disponibilité alimentaire (Kcal/personne/jour)  \\\n",
       "128                                          1879.0   \n",
       "166                                          1924.0   \n",
       "91                                           2056.0   \n",
       "0                                            2087.0   \n",
       "65                                           2089.0   \n",
       "133                                          2093.0   \n",
       "151                                          2109.0   \n",
       "167                                          2113.0   \n",
       "114                                          2126.0   \n",
       "154                                          2129.0   \n",
       "\n",
       "     Population sous-alimentée (millions)  Population(millions)  \\\n",
       "128                                   NaN              4.596023   \n",
       "166                                   NaN             16.853599   \n",
       "91                                   10.5             25.570512   \n",
       "0                                    10.5             36.296113   \n",
       "65                                    5.3             10.982366   \n",
       "133                                  12.0             25.429825   \n",
       "151                                   5.7             15.016753   \n",
       "167                                   NaN             14.236595   \n",
       "114                                   NaN             41.166588   \n",
       "154                                   0.4              1.243258   \n",
       "\n",
       "     Proportion de pers. sous alimentées  \n",
       "128                                  NaN  \n",
       "166                                  NaN  \n",
       "91                             41.062924  \n",
       "0                              28.928718  \n",
       "65                             48.259182  \n",
       "133                            47.188685  \n",
       "151                            37.957606  \n",
       "167                                  NaN  \n",
       "114                                  NaN  \n",
       "154                            32.173531  "
      ]
     },
     "execution_count": 15,
     "metadata": {},
     "output_type": "execute_result"
    }
   ],
   "source": [
    "(df_q8\n",
    " .sort_values('Disponibilité alimentaire (Kcal/personne/jour)')\n",
    " .head(10))"
   ]
  },
  {
   "cell_type": "code",
   "execution_count": null,
   "metadata": {},
   "outputs": [],
   "source": []
  }
 ],
 "metadata": {
  "kernelspec": {
   "display_name": "Python 3",
   "language": "python",
   "name": "python3"
  },
  "language_info": {
   "codemirror_mode": {
    "name": "ipython",
    "version": 3
   },
   "file_extension": ".py",
   "mimetype": "text/x-python",
   "name": "python",
   "nbconvert_exporter": "python",
   "pygments_lexer": "ipython3",
   "version": "3.8.5"
  },
  "toc": {
   "base_numbering": 1,
   "nav_menu": {
    "height": "197px",
    "width": "178px"
   },
   "number_sections": true,
   "sideBar": true,
   "skip_h1_title": false,
   "title_cell": "Table of Contents",
   "title_sidebar": "Contents",
   "toc_cell": true,
   "toc_position": {
    "height": "calc(100% - 180px)",
    "left": "10px",
    "top": "150px",
    "width": "283px"
   },
   "toc_section_display": true,
   "toc_window_display": false
  }
 },
 "nbformat": 4,
 "nbformat_minor": 4
}
